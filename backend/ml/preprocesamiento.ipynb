{
 "cells": [
  {
   "cell_type": "code",
   "execution_count": 3,
   "id": "c87a0a2f",
   "metadata": {},
   "outputs": [],
   "source": [
    "import polars as pl\n",
    "from pathlib import Path"
   ]
  },
  {
   "cell_type": "code",
   "execution_count": 2,
   "id": "9841f7ba",
   "metadata": {},
   "outputs": [
    {
     "name": "stdout",
     "output_type": "stream",
     "text": [
      "[WindowsPath('../data/dataAtenciones/OPENDATA_DS_01_2017_ATENCIONES.csv'), WindowsPath('../data/dataAtenciones/OPENDATA_DS_01_2018_ATENCIONES.csv'), WindowsPath('../data/dataAtenciones/OPENDATA_DS_01_2019_ATENCIONES.csv'), WindowsPath('../data/dataAtenciones/OPENDATA_DS_01_2020_ATENCIONES.csv'), WindowsPath('../data/dataAtenciones/OPENDATA_DS_01_2021_01_06_ATENCIONES.csv'), WindowsPath('../data/dataAtenciones/OPENDATA_DS_01_2021_07_12_ATENCIONES.csv'), WindowsPath('../data/dataAtenciones/OPENDATA_DS_01_2022_01_06_ATENCIONES.csv'), WindowsPath('../data/dataAtenciones/OPENDATA_DS_01_2022_07_12_ATENCIONES.csv'), WindowsPath('../data/dataAtenciones/OPENDATA_DS_01_2023_01_06_ATENCIONES.csv'), WindowsPath('../data/dataAtenciones/OPENDATA_DS_01_2023_07_12_ATENCIONES.csv'), WindowsPath('../data/dataAtenciones/OPENDATA_DS_01_2024_01_06_ATENCIONES.csv')]\n"
     ]
    }
   ],
   "source": [
    "# Ruta a la carpeta de los CSV\n",
    "csv_folder = Path(\"../data/dataAtenciones\")  # Ajusta el path si es necesario\n",
    "\n",
    "# Lista de archivos CSV\n",
    "csv_files = list(csv_folder.glob(\"*.csv\"))\n",
    "print(csv_files)"
   ]
  },
  {
   "cell_type": "code",
   "execution_count": 3,
   "id": "2cb10500",
   "metadata": {},
   "outputs": [],
   "source": [
    "import csv\n",
    "from io import StringIO"
   ]
  },
  {
   "cell_type": "code",
   "execution_count": 4,
   "id": "1e5bf71b",
   "metadata": {},
   "outputs": [
    {
     "name": "stderr",
     "output_type": "stream",
     "text": [
      "C:\\Users\\Gianfranco\\AppData\\Local\\Temp\\ipykernel_19048\\439311245.py:19: DeprecationWarning: the argument `dtypes` for `read_csv` is deprecated. It was renamed to `schema_overrides` in version 0.20.31.\n",
      "  df = pl.read_csv(\n"
     ]
    }
   ],
   "source": [
    "# Lee todos los CSV y concatena en un solo DataFrame de Polars\n",
    "df_list = []\n",
    "for f in csv_files:\n",
    "    # Lee el archivo y filtra filas mal formateadas usando el módulo csv\n",
    "    with open(f, encoding=\"utf-8\") as infile:\n",
    "        valid_lines = []\n",
    "        reader = csv.reader(infile)\n",
    "        header = next(reader)\n",
    "        valid_lines.append(\",\".join(header))\n",
    "        for row in reader:\n",
    "            try:\n",
    "                # Si la fila tiene el mismo número de columnas que el header, la consideramos válida\n",
    "                if len(row) == len(header):\n",
    "                    valid_lines.append(\",\".join([str(x) for x in row]))\n",
    "            except Exception:\n",
    "                continue\n",
    "        # Crea un StringIO con las filas válidas\n",
    "        csv_buffer = StringIO(\"\\n\".join(valid_lines))\n",
    "        df = pl.read_csv(\n",
    "            csv_buffer,\n",
    "            dtypes={\n",
    "                \"COD_IPRESS\": pl.Utf8,\n",
    "                \"COD_SERVICIO\": pl.Utf8\n",
    "            },\n",
    "            ignore_errors=True\n",
    "        )\n",
    "        if df.height > 0:\n",
    "            df_list.append(df)\n",
    "\n",
    "# Filtra DataFrames vacíos antes de concatenar\n",
    "df = pl.concat(df_list)"
   ]
  },
  {
   "cell_type": "code",
   "execution_count": 5,
   "id": "cf256ec8",
   "metadata": {},
   "outputs": [],
   "source": [
    "df.write_parquet(\"../data/dataAtenciones_unificado.parquet\")"
   ]
  },
  {
   "cell_type": "code",
   "execution_count": 2,
   "id": "db2d1107",
   "metadata": {},
   "outputs": [],
   "source": [
    "# Lee el archivo parquet\n",
    "df = pl.read_parquet(\"../data/dataAtenciones_unificado.parquet\")"
   ]
  },
  {
   "cell_type": "code",
   "execution_count": 3,
   "id": "aba52ed9",
   "metadata": {},
   "outputs": [
    {
     "data": {
      "text/html": [
       "<div><style>\n",
       ".dataframe > thead > tr,\n",
       ".dataframe > tbody > tr {\n",
       "  text-align: right;\n",
       "  white-space: pre-wrap;\n",
       "}\n",
       "</style>\n",
       "<small>shape: (5, 17)</small><table border=\"1\" class=\"dataframe\"><thead><tr><th>AÑO</th><th>MES</th><th>REGION</th><th>PROVINCIA</th><th>UBIGEO_DISTRITO</th><th>DISTRITO</th><th>COD_UNIDAD_EJECUTORA</th><th>DESC_UNIDAD_EJECUTORA</th><th>COD_IPRESS</th><th>IPRESS</th><th>NIVEL_EESS</th><th>PLAN_SEGURO</th><th>COD_SERVICIO</th><th>DESC_SERVICIO</th><th>SEXO</th><th>GRUPO_EDAD</th><th>ATENCIONES</th></tr><tr><td>i64</td><td>i64</td><td>str</td><td>str</td><td>i64</td><td>str</td><td>i64</td><td>str</td><td>str</td><td>str</td><td>str</td><td>str</td><td>str</td><td>str</td><td>str</td><td>str</td><td>i64</td></tr></thead><tbody><tr><td>2017</td><td>2</td><td>&quot;AMAZONAS&quot;</td><td>&quot;RODRÍGUEZ DE MENDOZA&quot;</td><td>10609</td><td>&quot;OMIA&quot;</td><td>725</td><td>&quot;REGION AMAZONAS - SALUD&quot;</td><td>&quot;0000004946&quot;</td><td>&quot;OMIA&quot;</td><td>&quot;I&quot;</td><td>&quot;SIS GRATUITO&quot;</td><td>&quot;011&quot;</td><td>&quot;EXÁMENES DE LABORATORIO COMPLE…</td><td>&quot;FEMENINO&quot;</td><td>&quot;30 - 59 AÑOS&quot;</td><td>3</td></tr><tr><td>2017</td><td>2</td><td>&quot;AMAZONAS&quot;</td><td>&quot;RODRÍGUEZ DE MENDOZA&quot;</td><td>10609</td><td>&quot;OMIA&quot;</td><td>725</td><td>&quot;REGION AMAZONAS - SALUD&quot;</td><td>&quot;0000004946&quot;</td><td>&quot;OMIA&quot;</td><td>&quot;I&quot;</td><td>&quot;SIS GRATUITO&quot;</td><td>&quot;021&quot;</td><td>&quot;PREVENCION DE CARIES&quot;</td><td>&quot;FEMENINO&quot;</td><td>&quot;00 - 04 AÑOS&quot;</td><td>1</td></tr><tr><td>2017</td><td>2</td><td>&quot;ÁNCASH&quot;</td><td>&quot;HUAYLAS&quot;</td><td>21207</td><td>&quot;PUEBLO LIBRE&quot;</td><td>744</td><td>&quot;REGION ANCASH - SALUD CARAZ&quot;</td><td>&quot;0000001611&quot;</td><td>&quot;CENTRO DE SALUD PUEBLO LIBRE&quot;</td><td>&quot;I&quot;</td><td>&quot;SIS GRATUITO&quot;</td><td>&quot;056&quot;</td><td>&quot;CONSULTA EXTERNA&quot;</td><td>&quot;FEMENINO&quot;</td><td>&quot;00 - 04 AÑOS&quot;</td><td>37</td></tr><tr><td>2017</td><td>2</td><td>&quot;ÁNCASH&quot;</td><td>&quot;HUAYLAS&quot;</td><td>21207</td><td>&quot;PUEBLO LIBRE&quot;</td><td>744</td><td>&quot;REGION ANCASH - SALUD CARAZ&quot;</td><td>&quot;0000001611&quot;</td><td>&quot;CENTRO DE SALUD PUEBLO LIBRE&quot;</td><td>&quot;I&quot;</td><td>&quot;SIS GRATUITO&quot;</td><td>&quot;075&quot;</td><td>&quot;ATENCIÓN EXTRAMURAL RURAL (VIS…</td><td>&quot;FEMENINO&quot;</td><td>&quot;00 - 04 AÑOS&quot;</td><td>13</td></tr><tr><td>2017</td><td>2</td><td>&quot;ÁNCASH&quot;</td><td>&quot;HUAYLAS&quot;</td><td>21207</td><td>&quot;PUEBLO LIBRE&quot;</td><td>744</td><td>&quot;REGION ANCASH - SALUD CARAZ&quot;</td><td>&quot;0000001611&quot;</td><td>&quot;CENTRO DE SALUD PUEBLO LIBRE&quot;</td><td>&quot;I&quot;</td><td>&quot;SIS INDEPENDIENTE&quot;</td><td>&quot;071&quot;</td><td>&quot;APOYO AL DIAGNÓSTICO&quot;</td><td>&quot;FEMENINO&quot;</td><td>&quot;18 - 29 AÑOS&quot;</td><td>2</td></tr></tbody></table></div>"
      ],
      "text/plain": [
       "shape: (5, 17)\n",
       "┌──────┬─────┬──────────┬───────────────┬───┬───────────────┬──────────┬──────────────┬────────────┐\n",
       "│ AÑO  ┆ MES ┆ REGION   ┆ PROVINCIA     ┆ … ┆ DESC_SERVICIO ┆ SEXO     ┆ GRUPO_EDAD   ┆ ATENCIONES │\n",
       "│ ---  ┆ --- ┆ ---      ┆ ---           ┆   ┆ ---           ┆ ---      ┆ ---          ┆ ---        │\n",
       "│ i64  ┆ i64 ┆ str      ┆ str           ┆   ┆ str           ┆ str      ┆ str          ┆ i64        │\n",
       "╞══════╪═════╪══════════╪═══════════════╪═══╪═══════════════╪══════════╪══════════════╪════════════╡\n",
       "│ 2017 ┆ 2   ┆ AMAZONAS ┆ RODRÍGUEZ DE  ┆ … ┆ EXÁMENES DE   ┆ FEMENINO ┆ 30 - 59 AÑOS ┆ 3          │\n",
       "│      ┆     ┆          ┆ MENDOZA       ┆   ┆ LABORATORIO   ┆          ┆              ┆            │\n",
       "│      ┆     ┆          ┆               ┆   ┆ COMPLE…       ┆          ┆              ┆            │\n",
       "│ 2017 ┆ 2   ┆ AMAZONAS ┆ RODRÍGUEZ DE  ┆ … ┆ PREVENCION DE ┆ FEMENINO ┆ 00 - 04 AÑOS ┆ 1          │\n",
       "│      ┆     ┆          ┆ MENDOZA       ┆   ┆ CARIES        ┆          ┆              ┆            │\n",
       "│ 2017 ┆ 2   ┆ ÁNCASH   ┆ HUAYLAS       ┆ … ┆ CONSULTA      ┆ FEMENINO ┆ 00 - 04 AÑOS ┆ 37         │\n",
       "│      ┆     ┆          ┆               ┆   ┆ EXTERNA       ┆          ┆              ┆            │\n",
       "│ 2017 ┆ 2   ┆ ÁNCASH   ┆ HUAYLAS       ┆ … ┆ ATENCIÓN      ┆ FEMENINO ┆ 00 - 04 AÑOS ┆ 13         │\n",
       "│      ┆     ┆          ┆               ┆   ┆ EXTRAMURAL    ┆          ┆              ┆            │\n",
       "│      ┆     ┆          ┆               ┆   ┆ RURAL (VIS…   ┆          ┆              ┆            │\n",
       "│ 2017 ┆ 2   ┆ ÁNCASH   ┆ HUAYLAS       ┆ … ┆ APOYO AL      ┆ FEMENINO ┆ 18 - 29 AÑOS ┆ 2          │\n",
       "│      ┆     ┆          ┆               ┆   ┆ DIAGNÓSTICO   ┆          ┆              ┆            │\n",
       "└──────┴─────┴──────────┴───────────────┴───┴───────────────┴──────────┴──────────────┴────────────┘"
      ]
     },
     "execution_count": 3,
     "metadata": {},
     "output_type": "execute_result"
    }
   ],
   "source": [
    "#Muestra las primeras 5 filas\n",
    "df.head(5)"
   ]
  },
  {
   "cell_type": "code",
   "execution_count": 4,
   "id": "b24ce468",
   "metadata": {},
   "outputs": [
    {
     "name": "stdout",
     "output_type": "stream",
     "text": [
      "[Int64, Int64, String, String, Int64, String, Int64, String, String, String, String, String, String, String, String, String, Int64]\n"
     ]
    }
   ],
   "source": [
    "#muestra el tipo de dato de cada columna\n",
    "print(df.dtypes)"
   ]
  },
  {
   "cell_type": "code",
   "execution_count": 5,
   "id": "fd740821",
   "metadata": {},
   "outputs": [
    {
     "name": "stdout",
     "output_type": "stream",
     "text": [
      "AÑO: Int64\n",
      "MES: Int64\n",
      "REGION: String\n",
      "PROVINCIA: String\n",
      "UBIGEO_DISTRITO: Int64\n",
      "DISTRITO: String\n",
      "COD_UNIDAD_EJECUTORA: Int64\n",
      "DESC_UNIDAD_EJECUTORA: String\n",
      "COD_IPRESS: String\n",
      "IPRESS: String\n",
      "NIVEL_EESS: String\n",
      "PLAN_SEGURO: String\n",
      "COD_SERVICIO: String\n",
      "DESC_SERVICIO: String\n",
      "SEXO: String\n",
      "GRUPO_EDAD: String\n",
      "ATENCIONES: Int64\n"
     ]
    }
   ],
   "source": [
    "for name, dtype in zip(df.columns, df.dtypes):\n",
    "    print(f\"{name}: {dtype}\")"
   ]
  },
  {
   "cell_type": "code",
   "execution_count": 6,
   "id": "80abf8b4",
   "metadata": {},
   "outputs": [],
   "source": [
    "# Selecciona las columnas de interés y renombra 'AÑO' a 'ANIO'\n",
    "df_filtrado = df.select([\n",
    "    pl.col(\"AÑO\").alias(\"ANIO\"),\n",
    "    \"REGION\",\n",
    "    \"PROVINCIA\",\n",
    "    \"UBIGEO_DISTRITO\",\n",
    "    \"DISTRITO\",\n",
    "    \"COD_UNIDAD_EJECUTORA\",\n",
    "    \"DESC_UNIDAD_EJECUTORA\",\n",
    "    \"COD_IPRESS\",\n",
    "    \"IPRESS\",\n",
    "    \"COD_SERVICIO\",\n",
    "    \"DESC_SERVICIO\",\n",
    "    \"ATENCIONES\"\n",
    "])"
   ]
  },
  {
   "cell_type": "code",
   "execution_count": 7,
   "id": "b0d3ddaa",
   "metadata": {},
   "outputs": [
    {
     "data": {
      "text/html": [
       "<div><style>\n",
       ".dataframe > thead > tr,\n",
       ".dataframe > tbody > tr {\n",
       "  text-align: right;\n",
       "  white-space: pre-wrap;\n",
       "}\n",
       "</style>\n",
       "<small>shape: (5, 12)</small><table border=\"1\" class=\"dataframe\"><thead><tr><th>ANIO</th><th>REGION</th><th>PROVINCIA</th><th>UBIGEO_DISTRITO</th><th>DISTRITO</th><th>COD_UNIDAD_EJECUTORA</th><th>DESC_UNIDAD_EJECUTORA</th><th>COD_IPRESS</th><th>IPRESS</th><th>COD_SERVICIO</th><th>DESC_SERVICIO</th><th>ATENCIONES</th></tr><tr><td>i64</td><td>str</td><td>str</td><td>i64</td><td>str</td><td>i64</td><td>str</td><td>str</td><td>str</td><td>str</td><td>str</td><td>i64</td></tr></thead><tbody><tr><td>2017</td><td>&quot;AMAZONAS&quot;</td><td>&quot;RODRÍGUEZ DE MENDOZA&quot;</td><td>10609</td><td>&quot;OMIA&quot;</td><td>725</td><td>&quot;REGION AMAZONAS - SALUD&quot;</td><td>&quot;0000004946&quot;</td><td>&quot;OMIA&quot;</td><td>&quot;011&quot;</td><td>&quot;EXÁMENES DE LABORATORIO COMPLE…</td><td>3</td></tr><tr><td>2017</td><td>&quot;AMAZONAS&quot;</td><td>&quot;RODRÍGUEZ DE MENDOZA&quot;</td><td>10609</td><td>&quot;OMIA&quot;</td><td>725</td><td>&quot;REGION AMAZONAS - SALUD&quot;</td><td>&quot;0000004946&quot;</td><td>&quot;OMIA&quot;</td><td>&quot;021&quot;</td><td>&quot;PREVENCION DE CARIES&quot;</td><td>1</td></tr><tr><td>2017</td><td>&quot;ÁNCASH&quot;</td><td>&quot;HUAYLAS&quot;</td><td>21207</td><td>&quot;PUEBLO LIBRE&quot;</td><td>744</td><td>&quot;REGION ANCASH - SALUD CARAZ&quot;</td><td>&quot;0000001611&quot;</td><td>&quot;CENTRO DE SALUD PUEBLO LIBRE&quot;</td><td>&quot;056&quot;</td><td>&quot;CONSULTA EXTERNA&quot;</td><td>37</td></tr><tr><td>2017</td><td>&quot;ÁNCASH&quot;</td><td>&quot;HUAYLAS&quot;</td><td>21207</td><td>&quot;PUEBLO LIBRE&quot;</td><td>744</td><td>&quot;REGION ANCASH - SALUD CARAZ&quot;</td><td>&quot;0000001611&quot;</td><td>&quot;CENTRO DE SALUD PUEBLO LIBRE&quot;</td><td>&quot;075&quot;</td><td>&quot;ATENCIÓN EXTRAMURAL RURAL (VIS…</td><td>13</td></tr><tr><td>2017</td><td>&quot;ÁNCASH&quot;</td><td>&quot;HUAYLAS&quot;</td><td>21207</td><td>&quot;PUEBLO LIBRE&quot;</td><td>744</td><td>&quot;REGION ANCASH - SALUD CARAZ&quot;</td><td>&quot;0000001611&quot;</td><td>&quot;CENTRO DE SALUD PUEBLO LIBRE&quot;</td><td>&quot;071&quot;</td><td>&quot;APOYO AL DIAGNÓSTICO&quot;</td><td>2</td></tr></tbody></table></div>"
      ],
      "text/plain": [
       "shape: (5, 12)\n",
       "┌──────┬──────────┬────────────┬────────────┬───┬────────────┬────────────┬────────────┬───────────┐\n",
       "│ ANIO ┆ REGION   ┆ PROVINCIA  ┆ UBIGEO_DIS ┆ … ┆ IPRESS     ┆ COD_SERVIC ┆ DESC_SERVI ┆ ATENCIONE │\n",
       "│ ---  ┆ ---      ┆ ---        ┆ TRITO      ┆   ┆ ---        ┆ IO         ┆ CIO        ┆ S         │\n",
       "│ i64  ┆ str      ┆ str        ┆ ---        ┆   ┆ str        ┆ ---        ┆ ---        ┆ ---       │\n",
       "│      ┆          ┆            ┆ i64        ┆   ┆            ┆ str        ┆ str        ┆ i64       │\n",
       "╞══════╪══════════╪════════════╪════════════╪═══╪════════════╪════════════╪════════════╪═══════════╡\n",
       "│ 2017 ┆ AMAZONAS ┆ RODRÍGUEZ  ┆ 10609      ┆ … ┆ OMIA       ┆ 011        ┆ EXÁMENES   ┆ 3         │\n",
       "│      ┆          ┆ DE MENDOZA ┆            ┆   ┆            ┆            ┆ DE LABORAT ┆           │\n",
       "│      ┆          ┆            ┆            ┆   ┆            ┆            ┆ ORIO       ┆           │\n",
       "│      ┆          ┆            ┆            ┆   ┆            ┆            ┆ COMPLE…    ┆           │\n",
       "│ 2017 ┆ AMAZONAS ┆ RODRÍGUEZ  ┆ 10609      ┆ … ┆ OMIA       ┆ 021        ┆ PREVENCION ┆ 1         │\n",
       "│      ┆          ┆ DE MENDOZA ┆            ┆   ┆            ┆            ┆ DE CARIES  ┆           │\n",
       "│ 2017 ┆ ÁNCASH   ┆ HUAYLAS    ┆ 21207      ┆ … ┆ CENTRO DE  ┆ 056        ┆ CONSULTA   ┆ 37        │\n",
       "│      ┆          ┆            ┆            ┆   ┆ SALUD      ┆            ┆ EXTERNA    ┆           │\n",
       "│      ┆          ┆            ┆            ┆   ┆ PUEBLO     ┆            ┆            ┆           │\n",
       "│      ┆          ┆            ┆            ┆   ┆ LIBRE      ┆            ┆            ┆           │\n",
       "│ 2017 ┆ ÁNCASH   ┆ HUAYLAS    ┆ 21207      ┆ … ┆ CENTRO DE  ┆ 075        ┆ ATENCIÓN   ┆ 13        │\n",
       "│      ┆          ┆            ┆            ┆   ┆ SALUD      ┆            ┆ EXTRAMURAL ┆           │\n",
       "│      ┆          ┆            ┆            ┆   ┆ PUEBLO     ┆            ┆ RURAL      ┆           │\n",
       "│      ┆          ┆            ┆            ┆   ┆ LIBRE      ┆            ┆ (VIS…      ┆           │\n",
       "│ 2017 ┆ ÁNCASH   ┆ HUAYLAS    ┆ 21207      ┆ … ┆ CENTRO DE  ┆ 071        ┆ APOYO AL   ┆ 2         │\n",
       "│      ┆          ┆            ┆            ┆   ┆ SALUD      ┆            ┆ DIAGNÓSTIC ┆           │\n",
       "│      ┆          ┆            ┆            ┆   ┆ PUEBLO     ┆            ┆ O          ┆           │\n",
       "│      ┆          ┆            ┆            ┆   ┆ LIBRE      ┆            ┆            ┆           │\n",
       "└──────┴──────────┴────────────┴────────────┴───┴────────────┴────────────┴────────────┴───────────┘"
      ]
     },
     "execution_count": 7,
     "metadata": {},
     "output_type": "execute_result"
    }
   ],
   "source": [
    "# Mostrar las primeras 5 filas\n",
    "df_filtrado.head(5)"
   ]
  },
  {
   "cell_type": "code",
   "execution_count": 8,
   "id": "4b5ac6f5",
   "metadata": {},
   "outputs": [
    {
     "data": {
      "text/plain": [
       "[Int64,\n",
       " String,\n",
       " String,\n",
       " Int64,\n",
       " String,\n",
       " Int64,\n",
       " String,\n",
       " String,\n",
       " String,\n",
       " String,\n",
       " String,\n",
       " Int64]"
      ]
     },
     "execution_count": 8,
     "metadata": {},
     "output_type": "execute_result"
    }
   ],
   "source": [
    "# Mostrar los tipos de dato\n",
    "df_filtrado.dtypes"
   ]
  },
  {
   "cell_type": "code",
   "execution_count": 9,
   "id": "80eec46f",
   "metadata": {},
   "outputs": [],
   "source": [
    "# UBIGEO_DISTRITO <-> DISTRITO\n",
    "df_ubigeo_distrito = df_filtrado.select([\"UBIGEO_DISTRITO\", \"DISTRITO\"]).unique()\n",
    "\n",
    "# COD_UNIDAD_EJECUTORA <-> DESC_UNIDAD_EJECUTORA\n",
    "df_cod_ue_desc = df_filtrado.select([\"COD_UNIDAD_EJECUTORA\", \"DESC_UNIDAD_EJECUTORA\"]).unique()\n",
    "\n",
    "# COD_IPRESS <-> IPRESS\n",
    "df_cod_ipress_ipress = df_filtrado.select([\"COD_IPRESS\", \"IPRESS\"]).unique()\n",
    "\n",
    "# COD_SERVICIO <-> DESC_SERVICIO\n",
    "df_cod_servicio_desc = df_filtrado.select([\"COD_SERVICIO\", \"DESC_SERVICIO\"]).unique()"
   ]
  },
  {
   "cell_type": "code",
   "execution_count": 11,
   "id": "d047e572",
   "metadata": {},
   "outputs": [
    {
     "name": "stdout",
     "output_type": "stream",
     "text": [
      "shape: (5, 2)\n",
      "┌─────────────────┬───────────┐\n",
      "│ UBIGEO_DISTRITO ┆ DISTRITO  │\n",
      "│ ---             ┆ ---       │\n",
      "│ i64             ┆ str       │\n",
      "╞═════════════════╪═══════════╡\n",
      "│ 80207           ┆ SANGARARA │\n",
      "│ 150506          ┆ COAYLLO   │\n",
      "│ 151030          ┆ TOMAS     │\n",
      "│ 120127          ┆ QUICHUAY  │\n",
      "│ 130705          ┆ SAN JOSÉ  │\n",
      "└─────────────────┴───────────┘\n"
     ]
    }
   ],
   "source": [
    "print(df_ubigeo_distrito.head())"
   ]
  },
  {
   "cell_type": "code",
   "execution_count": 12,
   "id": "86db6fc8",
   "metadata": {},
   "outputs": [
    {
     "name": "stdout",
     "output_type": "stream",
     "text": [
      "shape: (5, 2)\n",
      "┌──────────────────────┬─────────────────────────────────┐\n",
      "│ COD_UNIDAD_EJECUTORA ┆ DESC_UNIDAD_EJECUTORA           │\n",
      "│ ---                  ┆ ---                             │\n",
      "│ i64                  ┆ str                             │\n",
      "╞══════════════════════╪═════════════════════════════════╡\n",
      "│ 1059                 ┆ REGION SAN MARTIN - SALUD HUAL… │\n",
      "│ 765                  ┆ REGION AREQUIPA - SALUD         │\n",
      "│ 830                  ┆ REGION JUNIN - SALUD JUNIN      │\n",
      "│ 787                  ┆ REGION CAJAMARCA - SALUD CUTER… │\n",
      "│ 1497                 ┆ GOB. REG. APURIMAC - RED DE SA… │\n",
      "└──────────────────────┴─────────────────────────────────┘\n"
     ]
    }
   ],
   "source": [
    "print(df_cod_ue_desc.head())"
   ]
  },
  {
   "cell_type": "code",
   "execution_count": 13,
   "id": "5296d961",
   "metadata": {},
   "outputs": [
    {
     "name": "stdout",
     "output_type": "stream",
     "text": [
      "shape: (5, 2)\n",
      "┌────────────┬────────────────────────────────┐\n",
      "│ COD_IPRESS ┆ IPRESS                         │\n",
      "│ ---        ┆ ---                            │\n",
      "│ str        ┆ str                            │\n",
      "╞════════════╪════════════════════════════════╡\n",
      "│ 0000028772 ┆ PUESTO DE SALUD NUEVO PROGRESO │\n",
      "│ 0000005732 ┆ CERRO CULEBRA                  │\n",
      "│ 0000001831 ┆ PUESTO DE SALUD  HUACHIS       │\n",
      "│ 0000006109 ┆ JESUS PODEROSO                 │\n",
      "│ 0000000631 ┆ COCHARCAS                      │\n",
      "└────────────┴────────────────────────────────┘\n"
     ]
    }
   ],
   "source": [
    "print(df_cod_ipress_ipress.head())"
   ]
  },
  {
   "cell_type": "code",
   "execution_count": null,
   "id": "1ea4ab98",
   "metadata": {},
   "outputs": [],
   "source": [
    "df_cod_ipress_ipress.write_csv(\"../data/cod_ipress_ipress.csv\")"
   ]
  },
  {
   "cell_type": "code",
   "execution_count": 14,
   "id": "6fa14845",
   "metadata": {},
   "outputs": [
    {
     "name": "stdout",
     "output_type": "stream",
     "text": [
      "shape: (5, 2)\n",
      "┌──────────────┬─────────────────────────────────┐\n",
      "│ COD_SERVICIO ┆ DESC_SERVICIO                   │\n",
      "│ ---          ┆ ---                             │\n",
      "│ str          ┆ str                             │\n",
      "╞══════════════╪═════════════════════════════════╡\n",
      "│ 062          ┆ ATENCIÓN POR EMERGENCIA         │\n",
      "│ 065          ┆ INTERNAMIENTO EN EESS SIN INTE… │\n",
      "│ 011          ┆ EXÁMENES DE LABORATORIO COMPLE… │\n",
      "│ 111          ┆ ASIGNACIÓN POR ALIMENTACIÓN     │\n",
      "│ 300          ┆ TELEMEDICINA                    │\n",
      "└──────────────┴─────────────────────────────────┘\n"
     ]
    }
   ],
   "source": [
    "print(df_cod_servicio_desc.head())"
   ]
  },
  {
   "cell_type": "code",
   "execution_count": 16,
   "id": "5ee92c6d",
   "metadata": {},
   "outputs": [],
   "source": [
    "df_cod_servicio_desc.write_csv(\"../data/df_cod_servicio_desc.csv\")"
   ]
  },
  {
   "cell_type": "code",
   "execution_count": null,
   "id": "c1df6a5b",
   "metadata": {},
   "outputs": [
    {
     "data": {
      "text/html": [
       "<div>\n",
       "<style scoped>\n",
       "    .dataframe tbody tr th:only-of-type {\n",
       "        vertical-align: middle;\n",
       "    }\n",
       "\n",
       "    .dataframe tbody tr th {\n",
       "        vertical-align: top;\n",
       "    }\n",
       "\n",
       "    .dataframe thead th {\n",
       "        text-align: right;\n",
       "    }\n",
       "</style>\n",
       "<table border=\"1\" class=\"dataframe\">\n",
       "  <thead>\n",
       "    <tr style=\"text-align: right;\">\n",
       "      <th></th>\n",
       "      <th>COD_SERVICIO</th>\n",
       "      <th>DESC_SERVICIO</th>\n",
       "      <th>ESPECIALIDAD_MEDICA</th>\n",
       "    </tr>\n",
       "  </thead>\n",
       "  <tbody>\n",
       "    <tr>\n",
       "      <th>0</th>\n",
       "      <td>062</td>\n",
       "      <td>ATENCIÓN POR EMERGENCIA</td>\n",
       "      <td>Medicina de Emergencia</td>\n",
       "    </tr>\n",
       "    <tr>\n",
       "      <th>1</th>\n",
       "      <td>065</td>\n",
       "      <td>INTERNAMIENTO EN EESS SIN INTERVENCIÓN QUIRÚRGICA</td>\n",
       "      <td>Medicina Interna</td>\n",
       "    </tr>\n",
       "    <tr>\n",
       "      <th>2</th>\n",
       "      <td>011</td>\n",
       "      <td>EXÁMENES DE LABORATORIO COMPLETO DE LA GESTANTE</td>\n",
       "      <td>Ginecología/Obstetricia</td>\n",
       "    </tr>\n",
       "    <tr>\n",
       "      <th>3</th>\n",
       "      <td>111</td>\n",
       "      <td>ASIGNACIÓN POR ALIMENTACIÓN</td>\n",
       "      <td>Nutrición</td>\n",
       "    </tr>\n",
       "    <tr>\n",
       "      <th>4</th>\n",
       "      <td>300</td>\n",
       "      <td>TELEMEDICINA</td>\n",
       "      <td>Medicina General</td>\n",
       "    </tr>\n",
       "    <tr>\n",
       "      <th>...</th>\n",
       "      <td>...</td>\n",
       "      <td>...</td>\n",
       "      <td>...</td>\n",
       "    </tr>\n",
       "    <tr>\n",
       "      <th>61</th>\n",
       "      <td>117</td>\n",
       "      <td>TRASLADO DE EMERGENCIA</td>\n",
       "      <td>Medicina de Emergencia</td>\n",
       "    </tr>\n",
       "    <tr>\n",
       "      <th>62</th>\n",
       "      <td>061</td>\n",
       "      <td>ATENCIÓN EN TÓPICO</td>\n",
       "      <td>Medicina General</td>\n",
       "    </tr>\n",
       "    <tr>\n",
       "      <th>63</th>\n",
       "      <td>075</td>\n",
       "      <td>ATENCIÓN EXTRAMURAL RURAL (VISITA DOMICILIARIA)</td>\n",
       "      <td>Medicina Familiar</td>\n",
       "    </tr>\n",
       "    <tr>\n",
       "      <th>64</th>\n",
       "      <td>908</td>\n",
       "      <td>ATENCIÓN DOMICILIARIA</td>\n",
       "      <td>Medicina Familiar</td>\n",
       "    </tr>\n",
       "    <tr>\n",
       "      <th>65</th>\n",
       "      <td>055</td>\n",
       "      <td>CESÁREA</td>\n",
       "      <td>Ginecología/Obstetricia</td>\n",
       "    </tr>\n",
       "  </tbody>\n",
       "</table>\n",
       "<p>66 rows × 3 columns</p>\n",
       "</div>"
      ],
      "text/plain": [
       "   COD_SERVICIO                                      DESC_SERVICIO  \\\n",
       "0           062                            ATENCIÓN POR EMERGENCIA   \n",
       "1           065  INTERNAMIENTO EN EESS SIN INTERVENCIÓN QUIRÚRGICA   \n",
       "2           011    EXÁMENES DE LABORATORIO COMPLETO DE LA GESTANTE   \n",
       "3           111                        ASIGNACIÓN POR ALIMENTACIÓN   \n",
       "4           300                                       TELEMEDICINA   \n",
       "..          ...                                                ...   \n",
       "61          117                             TRASLADO DE EMERGENCIA   \n",
       "62          061                                 ATENCIÓN EN TÓPICO   \n",
       "63          075    ATENCIÓN EXTRAMURAL RURAL (VISITA DOMICILIARIA)   \n",
       "64          908                              ATENCIÓN DOMICILIARIA   \n",
       "65          055                                            CESÁREA   \n",
       "\n",
       "        ESPECIALIDAD_MEDICA  \n",
       "0    Medicina de Emergencia  \n",
       "1          Medicina Interna  \n",
       "2   Ginecología/Obstetricia  \n",
       "3                 Nutrición  \n",
       "4          Medicina General  \n",
       "..                      ...  \n",
       "61   Medicina de Emergencia  \n",
       "62         Medicina General  \n",
       "63        Medicina Familiar  \n",
       "64        Medicina Familiar  \n",
       "65  Ginecología/Obstetricia  \n",
       "\n",
       "[66 rows x 3 columns]"
      ]
     },
     "execution_count": 17,
     "metadata": {},
     "output_type": "execute_result"
    }
   ],
   "source": [
    "import pandas as pd\n",
    "\n",
    "# Diccionario completo de mapeo\n",
    "mapeo_especialidades = {\n",
    "    \"062\": \"Medicina de Emergencia\",\n",
    "    \"065\": \"Medicina Interna\",\n",
    "    \"011\": \"Ginecología/Obstetricia\",\n",
    "    \"111\": \"Nutrición\",\n",
    "    \"300\": \"Medicina General\",\n",
    "    \"069\": \"Hematología\",\n",
    "    \"007\": \"Nutrición\",\n",
    "    \"024\": \"Ginecología\",\n",
    "    \"904\": \"Medicina Familiar\",\n",
    "    \"911\": \"Odontología\",\n",
    "    \"029\": \"Neonatología/Pediatría\",\n",
    "    \"026\": \"Ginecología/Infectología\",\n",
    "    \"010\": \"Ginecología/Obstetricia\",\n",
    "    \"066\": \"Cirugía General\",\n",
    "    \"909\": \"Medicina General\",\n",
    "    \"907\": \"Medicina General\",\n",
    "    \"018\": \"Ginecología\",\n",
    "    \"022\": \"Psiquiatría/Salud Mental\",\n",
    "    \"020\": \"Odontología\",\n",
    "    \"008\": \"Medicina Preventiva\",\n",
    "    \"900\": \"Odontología\",\n",
    "    \"910\": \"Medicina General\",\n",
    "    \"068\": \"Medicina Crítica/Cuidados Intensivos\",\n",
    "    \"005\": \"Nutrición\",\n",
    "    \"016\": \"Pediatría\",\n",
    "    \"019\": \"Oftalmología\",\n",
    "    \"902\": \"Ginecología\",\n",
    "    \"013\": \"Ginecología/Obstetricia\",\n",
    "    \"023\": \"Urología\",\n",
    "    \"063\": \"Medicina de Emergencia\",\n",
    "    \"070\": \"Odontología\",\n",
    "    \"015\": \"Ginecología/Obstetricia\",\n",
    "    \"118\": \"Pediatría\",\n",
    "    \"S01\": \"Medicina General\",\n",
    "    \"009\": \"Ginecología/Obstetricia\",\n",
    "    \"903\": \"Geriatría\",\n",
    "    \"906\": \"Medicina General\",\n",
    "    \"053\": \"Infectología/Pediatría\",\n",
    "    \"S02\": \"Pediatría\",\n",
    "    \"051\": \"Neonatología\",\n",
    "    \"017\": \"Medicina del Adolescente\",\n",
    "    \"901\": \"Medicina General\",\n",
    "    \"027\": \"Infectología/Pediatría\",\n",
    "    \"001\": \"Pediatría\",\n",
    "    \"067\": \"Cirugía General\",\n",
    "    \"059\": \"Odontología\",\n",
    "    \"025\": \"Ginecología/Mastología\",\n",
    "    \"057\": \"Odontología\",\n",
    "    \"050\": \"Neonatología\",\n",
    "    \"021\": \"Odontología\",\n",
    "    \"074\": \"Infectología/Dermatología\",\n",
    "    \"119\": \"Pediatría\",\n",
    "    \"052\": \"Neonatología/Cirugía Pediátrica\",\n",
    "    \"054\": \"Ginecología/Obstetricia\",\n",
    "    \"071\": \"Medicina General\",\n",
    "    \"056\": \"Medicina General\",\n",
    "    \"200\": \"Fisiatría/Rehabilitación\",\n",
    "    \"060\": \"Medicina Familiar\",\n",
    "    \"064\": \"Cirugía General\",\n",
    "    \"002\": \"Neonatología\",\n",
    "    \"058\": \"Odontología\",\n",
    "    \"117\": \"Medicina de Emergencia\",\n",
    "    \"061\": \"Medicina General\",\n",
    "    \"075\": \"Medicina Familiar\",\n",
    "    \"908\": \"Medicina Familiar\",\n",
    "    \"055\": \"Ginecología/Obstetricia\"\n",
    "}\n",
    "\n",
    "# Cargar el archivo CSV (asegúrate de que la ruta sea correcta)\n",
    "df = pd.read_csv(\"../data/df_cod_servicio_desc.csv\")  # Reemplaza con tu ruta\n",
    "\n",
    "# Agregar la columna ESPECIALIDAD_MEDICA\n",
    "df[\"ESPECIALIDAD_MEDICA\"] = df[\"COD_SERVICIO\"].map(mapeo_especialidades)\n",
    "\n",
    "# Guardar el nuevo CSV (opcional)\n",
    "df.to_csv(\"../data/servicios_con_especialidades.csv\", index=False)\n",
    "\n",
    "# Mostrar el DataFrame\n",
    "df"
   ]
  },
  {
   "cell_type": "code",
   "execution_count": 20,
   "id": "ff60b8aa",
   "metadata": {},
   "outputs": [
    {
     "name": "stdout",
     "output_type": "stream",
     "text": [
      "shape: (5, 13)\n",
      "┌──────┬──────────┬────────────┬────────────┬───┬────────────┬────────────┬────────────┬───────────┐\n",
      "│ ANIO ┆ REGION   ┆ PROVINCIA  ┆ UBIGEO_DIS ┆ … ┆ COD_SERVIC ┆ DESC_SERVI ┆ ATENCIONES ┆ ESPECIALI │\n",
      "│ ---  ┆ ---      ┆ ---        ┆ TRITO      ┆   ┆ IO         ┆ CIO        ┆ ---        ┆ DAD_MEDIC │\n",
      "│ i64  ┆ str      ┆ str        ┆ ---        ┆   ┆ ---        ┆ ---        ┆ i64        ┆ A         │\n",
      "│      ┆          ┆            ┆ i64        ┆   ┆ str        ┆ str        ┆            ┆ ---       │\n",
      "│      ┆          ┆            ┆            ┆   ┆            ┆            ┆            ┆ str       │\n",
      "╞══════╪══════════╪════════════╪════════════╪═══╪════════════╪════════════╪════════════╪═══════════╡\n",
      "│ 2017 ┆ AMAZONAS ┆ RODRÍGUEZ  ┆ 10609      ┆ … ┆ 011        ┆ EXÁMENES   ┆ 3          ┆ Ginecolog │\n",
      "│      ┆          ┆ DE MENDOZA ┆            ┆   ┆            ┆ DE LABORAT ┆            ┆ ía/Obstet │\n",
      "│      ┆          ┆            ┆            ┆   ┆            ┆ ORIO       ┆            ┆ ricia     │\n",
      "│      ┆          ┆            ┆            ┆   ┆            ┆ COMPLE…    ┆            ┆           │\n",
      "│ 2017 ┆ AMAZONAS ┆ RODRÍGUEZ  ┆ 10609      ┆ … ┆ 021        ┆ PREVENCION ┆ 1          ┆ Odontolog │\n",
      "│      ┆          ┆ DE MENDOZA ┆            ┆   ┆            ┆ DE CARIES  ┆            ┆ ía        │\n",
      "│ 2017 ┆ ÁNCASH   ┆ HUAYLAS    ┆ 21207      ┆ … ┆ 056        ┆ CONSULTA   ┆ 37         ┆ Medicina  │\n",
      "│      ┆          ┆            ┆            ┆   ┆            ┆ EXTERNA    ┆            ┆ General   │\n",
      "│ 2017 ┆ ÁNCASH   ┆ HUAYLAS    ┆ 21207      ┆ … ┆ 075        ┆ ATENCIÓN   ┆ 13         ┆ Medicina  │\n",
      "│      ┆          ┆            ┆            ┆   ┆            ┆ EXTRAMURAL ┆            ┆ Familiar  │\n",
      "│      ┆          ┆            ┆            ┆   ┆            ┆ RURAL      ┆            ┆           │\n",
      "│      ┆          ┆            ┆            ┆   ┆            ┆ (VIS…      ┆            ┆           │\n",
      "│ 2017 ┆ ÁNCASH   ┆ HUAYLAS    ┆ 21207      ┆ … ┆ 071        ┆ APOYO AL   ┆ 2          ┆ Medicina  │\n",
      "│      ┆          ┆            ┆            ┆   ┆            ┆ DIAGNÓSTIC ┆            ┆ General   │\n",
      "│      ┆          ┆            ┆            ┆   ┆            ┆ O          ┆            ┆           │\n",
      "└──────┴──────────┴────────────┴────────────┴───┴────────────┴────────────┴────────────┴───────────┘\n"
     ]
    }
   ],
   "source": [
    "import polars as pl\n",
    "\n",
    "# Lee el DataFrame principal\n",
    "df = pl.read_parquet(\"../data/dataAtenciones_unificado.parquet\")\n",
    "df_filtrado = df.select([\n",
    "    pl.col(\"AÑO\").alias(\"ANIO\"),\n",
    "    \"REGION\",\n",
    "    \"PROVINCIA\",\n",
    "    \"UBIGEO_DISTRITO\",\n",
    "    \"DISTRITO\",\n",
    "    \"COD_UNIDAD_EJECUTORA\",\n",
    "    \"DESC_UNIDAD_EJECUTORA\",\n",
    "    \"COD_IPRESS\",\n",
    "    \"IPRESS\",\n",
    "    \"COD_SERVICIO\",\n",
    "    \"DESC_SERVICIO\",\n",
    "    \"ATENCIONES\"\n",
    "])\n",
    "\n",
    "# Lee el CSV de mapeo de especialidades\n",
    "df_mapeo = pl.read_csv(\"../data/servicios_con_especialidades.csv\")\n",
    "\n",
    "# Une la especialidad médica al DataFrame principal\n",
    "df_final = df_filtrado.join(df_mapeo, on=[\"COD_SERVICIO\", \"DESC_SERVICIO\"], how=\"left\")\n",
    "\n",
    "# Muestra las primeras filas para verificar\n",
    "print(df_final.head())"
   ]
  },
  {
   "cell_type": "code",
   "execution_count": 21,
   "id": "e55249f2",
   "metadata": {},
   "outputs": [],
   "source": [
    "import polars as pl"
   ]
  },
  {
   "cell_type": "code",
   "execution_count": 22,
   "id": "a7f71ab1",
   "metadata": {},
   "outputs": [],
   "source": [
    "# 1. Lee el DataFrame principal\n",
    "df = pl.read_parquet(\"../data/dataAtenciones_unificado.parquet\")"
   ]
  },
  {
   "cell_type": "code",
   "execution_count": 23,
   "id": "2b6ca698",
   "metadata": {},
   "outputs": [],
   "source": [
    "# 2. Selecciona y renombra las columnas de interés\n",
    "df_filtrado = df.select([\n",
    "    pl.col(\"AÑO\").alias(\"ANIO\"),\n",
    "    \"MES\",\n",
    "    \"COD_IPRESS\",\n",
    "    \"IPRESS\",\n",
    "    \"UBIGEO_DISTRITO\",\n",
    "    \"DISTRITO\",\n",
    "    \"REGION\",\n",
    "    \"PROVINCIA\",\n",
    "    \"ATENCIONES\",\n",
    "    \"COD_SERVICIO\"\n",
    "])"
   ]
  },
  {
   "cell_type": "code",
   "execution_count": 24,
   "id": "11754298",
   "metadata": {},
   "outputs": [],
   "source": [
    "# 3. Lee el CSV de mapeo de especialidades\n",
    "df_mapeo = pl.read_csv(\"../data/servicios_con_especialidades.csv\")  # Debe tener COD_SERVICIO y ESPECIALIDAD_MEDICA"
   ]
  },
  {
   "cell_type": "code",
   "execution_count": 25,
   "id": "25c04a19",
   "metadata": {},
   "outputs": [],
   "source": [
    "# 4. Une la especialidad médica al DataFrame principal usando COD_SERVICIO\n",
    "df_final = df_filtrado.join(df_mapeo.select([\"COD_SERVICIO\", \"ESPECIALIDAD_MEDICA\"]), on=\"COD_SERVICIO\", how=\"left\")"
   ]
  },
  {
   "cell_type": "code",
   "execution_count": 26,
   "id": "5f6d6085",
   "metadata": {},
   "outputs": [],
   "source": [
    "# 5. Guarda el resultado en CSV y Parquet\n",
    "df_final.write_csv(\"../data/dataAtenciones_con_especialidad.csv\")\n",
    "df_final.write_parquet(\"../data/dataAtenciones_con_especialidad.parquet\")"
   ]
  },
  {
   "cell_type": "code",
   "execution_count": 28,
   "id": "934c145a",
   "metadata": {},
   "outputs": [
    {
     "data": {
      "text/html": [
       "<div><style>\n",
       ".dataframe > thead > tr,\n",
       ".dataframe > tbody > tr {\n",
       "  text-align: right;\n",
       "  white-space: pre-wrap;\n",
       "}\n",
       "</style>\n",
       "<small>shape: (5, 11)</small><table border=\"1\" class=\"dataframe\"><thead><tr><th>ANIO</th><th>MES</th><th>COD_IPRESS</th><th>IPRESS</th><th>UBIGEO_DISTRITO</th><th>DISTRITO</th><th>REGION</th><th>PROVINCIA</th><th>ATENCIONES</th><th>COD_SERVICIO</th><th>ESPECIALIDAD_MEDICA</th></tr><tr><td>i64</td><td>i64</td><td>str</td><td>str</td><td>i64</td><td>str</td><td>str</td><td>str</td><td>i64</td><td>str</td><td>str</td></tr></thead><tbody><tr><td>2017</td><td>2</td><td>&quot;0000004946&quot;</td><td>&quot;OMIA&quot;</td><td>10609</td><td>&quot;OMIA&quot;</td><td>&quot;AMAZONAS&quot;</td><td>&quot;RODRÍGUEZ DE MENDOZA&quot;</td><td>3</td><td>&quot;011&quot;</td><td>&quot;Ginecología/Obstetricia&quot;</td></tr><tr><td>2017</td><td>2</td><td>&quot;0000004946&quot;</td><td>&quot;OMIA&quot;</td><td>10609</td><td>&quot;OMIA&quot;</td><td>&quot;AMAZONAS&quot;</td><td>&quot;RODRÍGUEZ DE MENDOZA&quot;</td><td>1</td><td>&quot;021&quot;</td><td>&quot;Odontología&quot;</td></tr><tr><td>2017</td><td>2</td><td>&quot;0000001611&quot;</td><td>&quot;CENTRO DE SALUD PUEBLO LIBRE&quot;</td><td>21207</td><td>&quot;PUEBLO LIBRE&quot;</td><td>&quot;ÁNCASH&quot;</td><td>&quot;HUAYLAS&quot;</td><td>37</td><td>&quot;056&quot;</td><td>&quot;Medicina General&quot;</td></tr><tr><td>2017</td><td>2</td><td>&quot;0000001611&quot;</td><td>&quot;CENTRO DE SALUD PUEBLO LIBRE&quot;</td><td>21207</td><td>&quot;PUEBLO LIBRE&quot;</td><td>&quot;ÁNCASH&quot;</td><td>&quot;HUAYLAS&quot;</td><td>13</td><td>&quot;075&quot;</td><td>&quot;Medicina Familiar&quot;</td></tr><tr><td>2017</td><td>2</td><td>&quot;0000001611&quot;</td><td>&quot;CENTRO DE SALUD PUEBLO LIBRE&quot;</td><td>21207</td><td>&quot;PUEBLO LIBRE&quot;</td><td>&quot;ÁNCASH&quot;</td><td>&quot;HUAYLAS&quot;</td><td>2</td><td>&quot;071&quot;</td><td>&quot;Medicina General&quot;</td></tr></tbody></table></div>"
      ],
      "text/plain": [
       "shape: (5, 11)\n",
       "┌──────┬─────┬────────────┬─────────────┬───┬─────────────┬────────────┬─────────────┬─────────────┐\n",
       "│ ANIO ┆ MES ┆ COD_IPRESS ┆ IPRESS      ┆ … ┆ PROVINCIA   ┆ ATENCIONES ┆ COD_SERVICI ┆ ESPECIALIDA │\n",
       "│ ---  ┆ --- ┆ ---        ┆ ---         ┆   ┆ ---         ┆ ---        ┆ O           ┆ D_MEDICA    │\n",
       "│ i64  ┆ i64 ┆ str        ┆ str         ┆   ┆ str         ┆ i64        ┆ ---         ┆ ---         │\n",
       "│      ┆     ┆            ┆             ┆   ┆             ┆            ┆ str         ┆ str         │\n",
       "╞══════╪═════╪════════════╪═════════════╪═══╪═════════════╪════════════╪═════════════╪═════════════╡\n",
       "│ 2017 ┆ 2   ┆ 0000004946 ┆ OMIA        ┆ … ┆ RODRÍGUEZ   ┆ 3          ┆ 011         ┆ Ginecología │\n",
       "│      ┆     ┆            ┆             ┆   ┆ DE MENDOZA  ┆            ┆             ┆ /Obstetrici │\n",
       "│      ┆     ┆            ┆             ┆   ┆             ┆            ┆             ┆ a           │\n",
       "│ 2017 ┆ 2   ┆ 0000004946 ┆ OMIA        ┆ … ┆ RODRÍGUEZ   ┆ 1          ┆ 021         ┆ Odontología │\n",
       "│      ┆     ┆            ┆             ┆   ┆ DE MENDOZA  ┆            ┆             ┆             │\n",
       "│ 2017 ┆ 2   ┆ 0000001611 ┆ CENTRO DE   ┆ … ┆ HUAYLAS     ┆ 37         ┆ 056         ┆ Medicina    │\n",
       "│      ┆     ┆            ┆ SALUD       ┆   ┆             ┆            ┆             ┆ General     │\n",
       "│      ┆     ┆            ┆ PUEBLO      ┆   ┆             ┆            ┆             ┆             │\n",
       "│      ┆     ┆            ┆ LIBRE       ┆   ┆             ┆            ┆             ┆             │\n",
       "│ 2017 ┆ 2   ┆ 0000001611 ┆ CENTRO DE   ┆ … ┆ HUAYLAS     ┆ 13         ┆ 075         ┆ Medicina    │\n",
       "│      ┆     ┆            ┆ SALUD       ┆   ┆             ┆            ┆             ┆ Familiar    │\n",
       "│      ┆     ┆            ┆ PUEBLO      ┆   ┆             ┆            ┆             ┆             │\n",
       "│      ┆     ┆            ┆ LIBRE       ┆   ┆             ┆            ┆             ┆             │\n",
       "│ 2017 ┆ 2   ┆ 0000001611 ┆ CENTRO DE   ┆ … ┆ HUAYLAS     ┆ 2          ┆ 071         ┆ Medicina    │\n",
       "│      ┆     ┆            ┆ SALUD       ┆   ┆             ┆            ┆             ┆ General     │\n",
       "│      ┆     ┆            ┆ PUEBLO      ┆   ┆             ┆            ┆             ┆             │\n",
       "│      ┆     ┆            ┆ LIBRE       ┆   ┆             ┆            ┆             ┆             │\n",
       "└──────┴─────┴────────────┴─────────────┴───┴─────────────┴────────────┴─────────────┴─────────────┘"
      ]
     },
     "execution_count": 28,
     "metadata": {},
     "output_type": "execute_result"
    }
   ],
   "source": [
    "# (Opcional) Muestra las primeras filas para verificar\n",
    "df_final.head()"
   ]
  },
  {
   "cell_type": "code",
   "execution_count": 4,
   "id": "cb06ed04",
   "metadata": {},
   "outputs": [],
   "source": [
    "# Lee el archivo ya preparado con especialidades\n",
    "df = pl.read_parquet(\"../data/dataAtenciones_con_especialidad.parquet\")"
   ]
  },
  {
   "cell_type": "code",
   "execution_count": 5,
   "id": "08cd8bb6",
   "metadata": {},
   "outputs": [],
   "source": [
    "# Agrupa por ANIO, MES, COD_IPRESS, IPRESS y ESPECIALIDAD_MEDICA, sumando las atenciones\n",
    "df_modelo = (\n",
    "    df\n",
    "    .group_by([\"ANIO\", \"MES\", \"COD_IPRESS\", \"IPRESS\", \"ESPECIALIDAD_MEDICA\"])\n",
    "    .agg([\n",
    "        pl.col(\"ATENCIONES\").cast(pl.Int64).sum().alias(\"TOTAL_ATENCIONES\")\n",
    "    ])\n",
    ")"
   ]
  },
  {
   "cell_type": "code",
   "execution_count": 9,
   "id": "6a030437",
   "metadata": {},
   "outputs": [],
   "source": [
    "# Calcula la cantidad de profesionales requeridos (mínimo 1 por especialidad)\n",
    "df_modelo = df_modelo.with_columns(\n",
    "    (pl.col(\"TOTAL_ATENCIONES\") / 15).ceil().clip(1, None).alias(\"PROFESIONALES_REQUERIDOS\")\n",
    ")"
   ]
  },
  {
   "cell_type": "code",
   "execution_count": 10,
   "id": "24f6cf79",
   "metadata": {},
   "outputs": [],
   "source": [
    "# Guarda el resultado en CSV y Parquet\n",
    "df_modelo.write_csv(\"../data/data_modelo_profesionales.csv\")\n",
    "df_modelo.write_parquet(\"../data/data_modelo_profesionales.parquet\")"
   ]
  },
  {
   "cell_type": "code",
   "execution_count": 12,
   "id": "715252d1",
   "metadata": {},
   "outputs": [
    {
     "data": {
      "text/html": [
       "<div><style>\n",
       ".dataframe > thead > tr,\n",
       ".dataframe > tbody > tr {\n",
       "  text-align: right;\n",
       "  white-space: pre-wrap;\n",
       "}\n",
       "</style>\n",
       "<small>shape: (5, 7)</small><table border=\"1\" class=\"dataframe\"><thead><tr><th>ANIO</th><th>MES</th><th>COD_IPRESS</th><th>IPRESS</th><th>ESPECIALIDAD_MEDICA</th><th>TOTAL_ATENCIONES</th><th>PROFESIONALES_REQUERIDOS</th></tr><tr><td>i64</td><td>i64</td><td>str</td><td>str</td><td>str</td><td>i64</td><td>f64</td></tr></thead><tbody><tr><td>2019</td><td>2</td><td>&quot;0000002604&quot;</td><td>&quot;PAMPAHUITE&quot;</td><td>&quot;Medicina Familiar&quot;</td><td>31</td><td>3.0</td></tr><tr><td>2024</td><td>5</td><td>&quot;0000001843&quot;</td><td>&quot;PUESTO DE SALUD PAUCAS&quot;</td><td>&quot;Medicina del Adolescente&quot;</td><td>20</td><td>2.0</td></tr><tr><td>2018</td><td>1</td><td>&quot;0000000501&quot;</td><td>&quot;ALTO PITOCUNA&quot;</td><td>&quot;Medicina General&quot;</td><td>112</td><td>8.0</td></tr><tr><td>2024</td><td>1</td><td>&quot;0000000741&quot;</td><td>&quot;CEDRUYO&quot;</td><td>&quot;Nutrición&quot;</td><td>1</td><td>1.0</td></tr><tr><td>2023</td><td>2</td><td>&quot;0000012148&quot;</td><td>&quot;SORTILEGIO&quot;</td><td>&quot;Medicina Preventiva&quot;</td><td>5</td><td>1.0</td></tr></tbody></table></div>"
      ],
      "text/plain": [
       "shape: (5, 7)\n",
       "┌──────┬─────┬────────────┬──────────────────┬─────────────────┬─────────────────┬─────────────────┐\n",
       "│ ANIO ┆ MES ┆ COD_IPRESS ┆ IPRESS           ┆ ESPECIALIDAD_ME ┆ TOTAL_ATENCIONE ┆ PROFESIONALES_R │\n",
       "│ ---  ┆ --- ┆ ---        ┆ ---              ┆ DICA            ┆ S               ┆ EQUERIDOS       │\n",
       "│ i64  ┆ i64 ┆ str        ┆ str              ┆ ---             ┆ ---             ┆ ---             │\n",
       "│      ┆     ┆            ┆                  ┆ str             ┆ i64             ┆ f64             │\n",
       "╞══════╪═════╪════════════╪══════════════════╪═════════════════╪═════════════════╪═════════════════╡\n",
       "│ 2019 ┆ 2   ┆ 0000002604 ┆ PAMPAHUITE       ┆ Medicina        ┆ 31              ┆ 3.0             │\n",
       "│      ┆     ┆            ┆                  ┆ Familiar        ┆                 ┆                 │\n",
       "│ 2024 ┆ 5   ┆ 0000001843 ┆ PUESTO DE SALUD  ┆ Medicina del    ┆ 20              ┆ 2.0             │\n",
       "│      ┆     ┆            ┆ PAUCAS           ┆ Adolescente     ┆                 ┆                 │\n",
       "│ 2018 ┆ 1   ┆ 0000000501 ┆ ALTO PITOCUNA    ┆ Medicina        ┆ 112             ┆ 8.0             │\n",
       "│      ┆     ┆            ┆                  ┆ General         ┆                 ┆                 │\n",
       "│ 2024 ┆ 1   ┆ 0000000741 ┆ CEDRUYO          ┆ Nutrición       ┆ 1               ┆ 1.0             │\n",
       "│ 2023 ┆ 2   ┆ 0000012148 ┆ SORTILEGIO       ┆ Medicina        ┆ 5               ┆ 1.0             │\n",
       "│      ┆     ┆            ┆                  ┆ Preventiva      ┆                 ┆                 │\n",
       "└──────┴─────┴────────────┴──────────────────┴─────────────────┴─────────────────┴─────────────────┘"
      ]
     },
     "execution_count": 12,
     "metadata": {},
     "output_type": "execute_result"
    }
   ],
   "source": [
    "# (Opcional) Muestra las primeras filas para verificar\n",
    "df_modelo.head()"
   ]
  }
 ],
 "metadata": {
  "kernelspec": {
   "display_name": ".venv",
   "language": "python",
   "name": "python3"
  },
  "language_info": {
   "codemirror_mode": {
    "name": "ipython",
    "version": 3
   },
   "file_extension": ".py",
   "mimetype": "text/x-python",
   "name": "python",
   "nbconvert_exporter": "python",
   "pygments_lexer": "ipython3",
   "version": "3.13.1"
  }
 },
 "nbformat": 4,
 "nbformat_minor": 5
}
