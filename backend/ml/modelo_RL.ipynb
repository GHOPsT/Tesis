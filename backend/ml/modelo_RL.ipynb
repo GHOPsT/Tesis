{
 "cells": [
  {
   "cell_type": "code",
   "execution_count": 1,
   "id": "73796ba6",
   "metadata": {},
   "outputs": [],
   "source": [
    "import pandas as pd\n",
    "from sklearn.model_selection import train_test_split\n",
    "from sklearn.linear_model import LogisticRegression\n",
    "from sklearn.preprocessing import LabelEncoder\n",
    "from sklearn.metrics import classification_report"
   ]
  },
  {
   "cell_type": "code",
   "execution_count": 2,
   "id": "57f52b1a",
   "metadata": {},
   "outputs": [
    {
     "name": "stderr",
     "output_type": "stream",
     "text": [
      "C:\\Users\\GHOPsT\\AppData\\Local\\Temp\\ipykernel_12680\\36700841.py:2: DtypeWarning: Columns (8,12) have mixed types. Specify dtype option on import or set low_memory=False.\n",
      "  df = pd.read_csv('datos_limpios_transformados.csv')\n"
     ]
    }
   ],
   "source": [
    "# Cargar datos procesados\n",
    "df = pd.read_csv('datos_limpios_transformados.csv')"
   ]
  },
  {
   "cell_type": "code",
   "execution_count": 5,
   "id": "92e761cd",
   "metadata": {},
   "outputs": [],
   "source": [
    "# Codificar variables categóricas\n",
    "le_centro = LabelEncoder()\n",
    "le_esp = LabelEncoder()\n",
    "df['COD_IPRESS'] = le_centro.fit_transform(df['COD_IPRESS'].astype(str))\n",
    "df['DESC_SERVICIO'] = le_esp.fit_transform(df['DESC_SERVICIO'].astype(str))"
   ]
  },
  {
   "cell_type": "code",
   "execution_count": 7,
   "id": "715bdb48",
   "metadata": {},
   "outputs": [],
   "source": [
    "# Variable objetivo: clasificar si se necesitan más de X especialistas (ejemplo: 100 atenciones)\n",
    "df['NECESITA_ESPECIALISTA'] = (df['ATENCIONES'] > 100).astype(int)"
   ]
  },
  {
   "cell_type": "code",
   "execution_count": 9,
   "id": "9e8d03f0",
   "metadata": {},
   "outputs": [],
   "source": [
    "X = df[['COD_IPRESS', 'DESC_SERVICIO', 'MES', 'AÑO']]\n",
    "y = df['NECESITA_ESPECIALISTA']"
   ]
  },
  {
   "cell_type": "code",
   "execution_count": 10,
   "id": "50d688fc",
   "metadata": {},
   "outputs": [],
   "source": [
    "X_train, X_test, y_train, y_test = train_test_split(X, y, test_size=0.2, random_state=42)"
   ]
  },
  {
   "cell_type": "code",
   "execution_count": 11,
   "id": "e09e7733",
   "metadata": {},
   "outputs": [],
   "source": [
    "model = LogisticRegression(max_iter=1000)\n",
    "model.fit(X_train, y_train)\n",
    "y_pred = model.predict(X_test)"
   ]
  },
  {
   "cell_type": "code",
   "execution_count": 12,
   "id": "af62b8f7",
   "metadata": {},
   "outputs": [
    {
     "name": "stderr",
     "output_type": "stream",
     "text": [
      "c:\\Users\\GHOPsT\\AppData\\Local\\Programs\\Python\\Python313\\Lib\\site-packages\\sklearn\\metrics\\_classification.py:1565: UndefinedMetricWarning: Precision is ill-defined and being set to 0.0 in labels with no predicted samples. Use `zero_division` parameter to control this behavior.\n",
      "  _warn_prf(average, modifier, f\"{metric.capitalize()} is\", len(result))\n",
      "c:\\Users\\GHOPsT\\AppData\\Local\\Programs\\Python\\Python313\\Lib\\site-packages\\sklearn\\metrics\\_classification.py:1565: UndefinedMetricWarning: Precision is ill-defined and being set to 0.0 in labels with no predicted samples. Use `zero_division` parameter to control this behavior.\n",
      "  _warn_prf(average, modifier, f\"{metric.capitalize()} is\", len(result))\n"
     ]
    },
    {
     "name": "stdout",
     "output_type": "stream",
     "text": [
      "              precision    recall  f1-score   support\n",
      "\n",
      "           0       0.99      1.00      1.00  11576888\n",
      "           1       0.00      0.00      0.00     96832\n",
      "\n",
      "    accuracy                           0.99  11673720\n",
      "   macro avg       0.50      0.50      0.50  11673720\n",
      "weighted avg       0.98      0.99      0.99  11673720\n",
      "\n"
     ]
    },
    {
     "name": "stderr",
     "output_type": "stream",
     "text": [
      "c:\\Users\\GHOPsT\\AppData\\Local\\Programs\\Python\\Python313\\Lib\\site-packages\\sklearn\\metrics\\_classification.py:1565: UndefinedMetricWarning: Precision is ill-defined and being set to 0.0 in labels with no predicted samples. Use `zero_division` parameter to control this behavior.\n",
      "  _warn_prf(average, modifier, f\"{metric.capitalize()} is\", len(result))\n"
     ]
    }
   ],
   "source": [
    "print(classification_report(y_test, y_pred))"
   ]
  }
 ],
 "metadata": {
  "kernelspec": {
   "display_name": "Python 3",
   "language": "python",
   "name": "python3"
  },
  "language_info": {
   "codemirror_mode": {
    "name": "ipython",
    "version": 3
   },
   "file_extension": ".py",
   "mimetype": "text/x-python",
   "name": "python",
   "nbconvert_exporter": "python",
   "pygments_lexer": "ipython3",
   "version": "3.13.2"
  }
 },
 "nbformat": 4,
 "nbformat_minor": 5
}
