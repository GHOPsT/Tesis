{
 "cells": [
  {
   "cell_type": "code",
   "execution_count": 1,
   "id": "b52c4428",
   "metadata": {},
   "outputs": [],
   "source": [
    "import pandas as pd\n",
    "from sklearn.ensemble import RandomForestRegressor\n",
    "from sklearn.model_selection import train_test_split\n",
    "from sklearn.preprocessing import LabelEncoder\n",
    "import joblib"
   ]
  },
  {
   "cell_type": "code",
   "execution_count": 2,
   "id": "ab637b1e",
   "metadata": {},
   "outputs": [],
   "source": [
    "# Carga tu dataset\n",
    "df = pd.read_parquet(\"../data/data_modelo_profesionales.parquet\")"
   ]
  },
  {
   "cell_type": "code",
   "execution_count": 3,
   "id": "7e14aa51",
   "metadata": {},
   "outputs": [],
   "source": [
    "# 2. Codifica variables categóricas y guarda los encoders\n",
    "le_ipress = LabelEncoder()\n",
    "le_especialidad = LabelEncoder()\n",
    "df[\"COD_IPRESS\"] = le_ipress.fit_transform(df[\"COD_IPRESS\"].astype(str))\n",
    "df[\"ESPECIALIDAD_MEDICA\"] = le_especialidad.fit_transform(df[\"ESPECIALIDAD_MEDICA\"].astype(str))"
   ]
  },
  {
   "cell_type": "code",
   "execution_count": 10,
   "id": "2f501a7a",
   "metadata": {},
   "outputs": [],
   "source": [
    "# 3. Define features y target\n",
    "X = df[[\"ANIO\", \"MES\", \"COD_IPRESS\", \"ESPECIALIDAD_MEDICA\"]]\n",
    "y = df[\"PROFESIONALES_REQUERIDOS\"]"
   ]
  },
  {
   "cell_type": "code",
   "execution_count": 11,
   "id": "1cbd8436",
   "metadata": {},
   "outputs": [],
   "source": [
    "# 4. Divide en train/test\n",
    "X_train, X_test, y_train, y_test = train_test_split(X, y, test_size=0.2, random_state=42)"
   ]
  },
  {
   "cell_type": "code",
   "execution_count": null,
   "id": "e04414b5",
   "metadata": {},
   "outputs": [
    {
     "ename": "",
     "evalue": "",
     "output_type": "error",
     "traceback": [
      "\u001b[1;31mFailed to start the Kernel. \n",
      "\u001b[1;31mUnable to start Kernel '.venv (Python 3.13.1)' due to a timeout waiting for the ports to get used. \n",
      "\u001b[1;31mView Jupyter <a href='command:jupyter.viewOutput'>log</a> for further details."
     ]
    }
   ],
   "source": [
    "# 5. Entrena el modelo\n",
    "model = RandomForestRegressor(n_estimators=100, random_state=42)\n",
    "model.fit(X_train, y_train)"
   ]
  },
  {
   "cell_type": "code",
   "execution_count": null,
   "id": "d4974945",
   "metadata": {},
   "outputs": [],
   "source": [
    "# 6. Evalúa\n",
    "print(\"Score en test:\", model.score(X_test, y_test))"
   ]
  },
  {
   "cell_type": "code",
   "execution_count": null,
   "id": "67bc6da7",
   "metadata": {},
   "outputs": [],
   "source": [
    "# 7. Guarda el modelo y los encoders para predicción futura\n",
    "joblib.dump(model, \"../data/modelo_rf_profesionales_simple.joblib\")\n",
    "joblib.dump(le_ipress, \"../data/le_ipress_simple.joblib\")\n",
    "joblib.dump(le_especialidad, \"../data/le_especialidad_simple.joblib\")"
   ]
  }
 ],
 "metadata": {
  "kernelspec": {
   "display_name": ".venv",
   "language": "python",
   "name": "python3"
  },
  "language_info": {
   "codemirror_mode": {
    "name": "ipython",
    "version": 3
   },
   "file_extension": ".py",
   "mimetype": "text/x-python",
   "name": "python",
   "nbconvert_exporter": "python",
   "pygments_lexer": "ipython3",
   "version": "3.13.1"
  }
 },
 "nbformat": 4,
 "nbformat_minor": 5
}
