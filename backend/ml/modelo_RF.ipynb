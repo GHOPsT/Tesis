{
 "cells": [
  {
   "cell_type": "markdown",
   "id": "8e996c59",
   "metadata": {},
   "source": [
    "*El modelo falla debido al mal tratamiento de datos*"
   ]
  },
  {
   "cell_type": "code",
   "execution_count": 1,
   "id": "2d5da3a5",
   "metadata": {},
   "outputs": [],
   "source": [
    "import pandas as pd\n",
    "from sklearn.model_selection import train_test_split\n",
    "from sklearn.ensemble import RandomForestClassifier\n",
    "from sklearn.preprocessing import LabelEncoder\n",
    "from sklearn.metrics import classification_report"
   ]
  },
  {
   "cell_type": "code",
   "execution_count": 2,
   "id": "56fede13",
   "metadata": {},
   "outputs": [
    {
     "name": "stdout",
     "output_type": "stream",
     "text": [
      "Intentando con coma...\n",
      "    AÑO  MES    REGION             PROVINCIA  UBIGEO_DISTRITO      DISTRITO  \\\n",
      "0  2017    2  AMAZONAS  RODRÍGUEZ DE MENDOZA            10609          OMIA   \n",
      "1  2017    2  AMAZONAS  RODRÍGUEZ DE MENDOZA            10609          OMIA   \n",
      "2  2017    2    ÁNCASH               HUAYLAS            21207  PUEBLO LIBRE   \n",
      "3  2017    2    ÁNCASH               HUAYLAS            21207  PUEBLO LIBRE   \n",
      "4  2017    2    ÁNCASH               HUAYLAS            21207  PUEBLO LIBRE   \n",
      "\n",
      "   COD_UNIDAD_EJECUTORA        DESC_UNIDAD_EJECUTORA  COD_IPRESS  \\\n",
      "0                   725      REGION AMAZONAS - SALUD        4946   \n",
      "1                   725      REGION AMAZONAS - SALUD        4946   \n",
      "2                   744  REGION ANCASH - SALUD CARAZ        1611   \n",
      "3                   744  REGION ANCASH - SALUD CARAZ        1611   \n",
      "4                   744  REGION ANCASH - SALUD CARAZ        1611   \n",
      "\n",
      "                         IPRESS NIVEL_EESS        PLAN_SEGURO  COD_SERVICIO  \\\n",
      "0                          OMIA          I       SIS GRATUITO            11   \n",
      "1                          OMIA          I       SIS GRATUITO            21   \n",
      "2  CENTRO DE SALUD PUEBLO LIBRE          I       SIS GRATUITO            56   \n",
      "3  CENTRO DE SALUD PUEBLO LIBRE          I       SIS GRATUITO            75   \n",
      "4  CENTRO DE SALUD PUEBLO LIBRE          I  SIS INDEPENDIENTE            71   \n",
      "\n",
      "                                     DESC_SERVICIO      SEXO    GRUPO_EDAD  \\\n",
      "0  EXÁMENES DE LABORATORIO COMPLETO DE LA GESTANTE  FEMENINO  30 - 59 AÑOS   \n",
      "1                             PREVENCION DE CARIES  FEMENINO  00 - 04 AÑOS   \n",
      "2                                 CONSULTA EXTERNA  FEMENINO  00 - 04 AÑOS   \n",
      "3  ATENCIÓN EXTRAMURAL RURAL (VISITA DOMICILIARIA)  FEMENINO  00 - 04 AÑOS   \n",
      "4                             APOYO AL DIAGNÓSTICO  FEMENINO  18 - 29 AÑOS   \n",
      "\n",
      "   ATENCIONES  \n",
      "0           3  \n",
      "1           1  \n",
      "2          37  \n",
      "3          13  \n",
      "4           2  \n",
      "Index(['AÑO', 'MES', 'REGION', 'PROVINCIA', 'UBIGEO_DISTRITO', 'DISTRITO',\n",
      "       'COD_UNIDAD_EJECUTORA', 'DESC_UNIDAD_EJECUTORA', 'COD_IPRESS', 'IPRESS',\n",
      "       'NIVEL_EESS', 'PLAN_SEGURO', 'COD_SERVICIO', 'DESC_SERVICIO', 'SEXO',\n",
      "       'GRUPO_EDAD', 'ATENCIONES'],\n",
      "      dtype='object')\n",
      "\n",
      "Intentando con punto y coma...\n",
      "  AÑO,MES,REGION,PROVINCIA,UBIGEO_DISTRITO,DISTRITO,COD_UNIDAD_EJECUTORA,DESC_UNIDAD_EJECUTORA,COD_IPRESS,IPRESS,NIVEL_EESS,PLAN_SEGURO,COD_SERVICIO,DESC_SERVICIO,SEXO,GRUPO_EDAD,ATENCIONES\n",
      "0  2017,2,AMAZONAS,RODRÍGUEZ DE MENDOZA,010609,OM...                                                                                                                                         \n",
      "1  2017,2,AMAZONAS,RODRÍGUEZ DE MENDOZA,010609,OM...                                                                                                                                         \n",
      "2  2017,2,ÁNCASH,HUAYLAS,021207,PUEBLO LIBRE,744,...                                                                                                                                         \n",
      "3  2017,2,ÁNCASH,HUAYLAS,021207,PUEBLO LIBRE,744,...                                                                                                                                         \n",
      "4  2017,2,ÁNCASH,HUAYLAS,021207,PUEBLO LIBRE,744,...                                                                                                                                         \n",
      "Index(['AÑO,MES,REGION,PROVINCIA,UBIGEO_DISTRITO,DISTRITO,COD_UNIDAD_EJECUTORA,DESC_UNIDAD_EJECUTORA,COD_IPRESS,IPRESS,NIVEL_EESS,PLAN_SEGURO,COD_SERVICIO,DESC_SERVICIO,SEXO,GRUPO_EDAD,ATENCIONES'], dtype='object')\n",
      "\n",
      "Intentando con tabulación...\n",
      "  AÑO,MES,REGION,PROVINCIA,UBIGEO_DISTRITO,DISTRITO,COD_UNIDAD_EJECUTORA,DESC_UNIDAD_EJECUTORA,COD_IPRESS,IPRESS,NIVEL_EESS,PLAN_SEGURO,COD_SERVICIO,DESC_SERVICIO,SEXO,GRUPO_EDAD,ATENCIONES\n",
      "0  2017,2,AMAZONAS,RODRÍGUEZ DE MENDOZA,010609,OM...                                                                                                                                         \n",
      "1  2017,2,AMAZONAS,RODRÍGUEZ DE MENDOZA,010609,OM...                                                                                                                                         \n",
      "2  2017,2,ÁNCASH,HUAYLAS,021207,PUEBLO LIBRE,744,...                                                                                                                                         \n",
      "3  2017,2,ÁNCASH,HUAYLAS,021207,PUEBLO LIBRE,744,...                                                                                                                                         \n",
      "4  2017,2,ÁNCASH,HUAYLAS,021207,PUEBLO LIBRE,744,...                                                                                                                                         \n",
      "Index(['AÑO,MES,REGION,PROVINCIA,UBIGEO_DISTRITO,DISTRITO,COD_UNIDAD_EJECUTORA,DESC_UNIDAD_EJECUTORA,COD_IPRESS,IPRESS,NIVEL_EESS,PLAN_SEGURO,COD_SERVICIO,DESC_SERVICIO,SEXO,GRUPO_EDAD,ATENCIONES'], dtype='object')\n"
     ]
    }
   ],
   "source": [
    "# Intenta leer solo las primeras 5 filas con diferentes delimitadores\n",
    "print(\"Intentando con coma...\")\n",
    "try:\n",
    "    df_coma = pd.read_csv('datos_limpios_transformados.csv', nrows=5)\n",
    "    print(df_coma.head())\n",
    "    print(df_coma.columns)\n",
    "except Exception as e:\n",
    "    print(\"Error con coma:\", e)\n",
    "\n",
    "print(\"\\nIntentando con punto y coma...\")\n",
    "try:\n",
    "    df_puntoycoma = pd.read_csv('datos_limpios_transformados.csv', sep=';', nrows=5)\n",
    "    print(df_puntoycoma.head())\n",
    "    print(df_puntoycoma.columns)\n",
    "except Exception as e:\n",
    "    print(\"Error con punto y coma:\", e)\n",
    "\n",
    "print(\"\\nIntentando con tabulación...\")\n",
    "try:\n",
    "    df_tab = pd.read_csv('datos_limpios_transformados.csv', sep='\\t', nrows=5)\n",
    "    print(df_tab.head())\n",
    "    print(df_tab.columns)\n",
    "except Exception as e:\n",
    "    print(\"Error con tabulación:\", e)"
   ]
  },
  {
   "cell_type": "code",
   "execution_count": 3,
   "id": "598b98ed",
   "metadata": {},
   "outputs": [
    {
     "name": "stderr",
     "output_type": "stream",
     "text": [
      "C:\\Users\\GHOPsT\\AppData\\Local\\Temp\\ipykernel_18404\\1192698233.py:2: DtypeWarning: Columns (8) have mixed types. Specify dtype option on import or set low_memory=False.\n",
      "  df = pd.read_csv('datos_limpios_transformados.csv', usecols=cols)\n"
     ]
    }
   ],
   "source": [
    "cols = ['COD_IPRESS', 'DESC_SERVICIO', 'MES', 'AÑO', 'ATENCIONES']\n",
    "df = pd.read_csv('datos_limpios_transformados.csv', usecols=cols)"
   ]
  },
  {
   "cell_type": "code",
   "execution_count": 4,
   "id": "47c29828",
   "metadata": {},
   "outputs": [],
   "source": [
    "# Codificar variables categóricas\n",
    "le_centro = LabelEncoder()\n",
    "le_esp = LabelEncoder()\n",
    "df['COD_IPRESS'] = le_centro.fit_transform(df['COD_IPRESS'].astype(str))\n",
    "df['DESC_SERVICIO'] = le_esp.fit_transform(df['DESC_SERVICIO'].astype(str))"
   ]
  },
  {
   "cell_type": "code",
   "execution_count": 5,
   "id": "c59d7ae1",
   "metadata": {},
   "outputs": [],
   "source": [
    "df['NECESITA_ESPECIALISTA'] = (df['ATENCIONES'] > 100).astype(int)"
   ]
  },
  {
   "cell_type": "code",
   "execution_count": 6,
   "id": "a6afd814",
   "metadata": {},
   "outputs": [],
   "source": [
    "X = df[['COD_IPRESS', 'DESC_SERVICIO', 'MES', 'AÑO']]\n",
    "y = df['NECESITA_ESPECIALISTA']"
   ]
  },
  {
   "cell_type": "code",
   "execution_count": 7,
   "id": "fd11d2c7",
   "metadata": {},
   "outputs": [],
   "source": [
    "X_train, X_test, y_train, y_test = train_test_split(X, y, test_size=0.2, random_state=42)"
   ]
  },
  {
   "cell_type": "code",
   "execution_count": 8,
   "id": "475e3aec",
   "metadata": {},
   "outputs": [],
   "source": [
    "# Usa solo una muestra de 50,000 filas para entrenar\n",
    "X_train_sample = X_train.sample(n=50000, random_state=42)\n",
    "y_train_sample = y_train.loc[X_train_sample.index]"
   ]
  },
  {
   "cell_type": "code",
   "execution_count": 9,
   "id": "ecfc15a5",
   "metadata": {},
   "outputs": [],
   "source": [
    "model = RandomForestClassifier(n_estimators=50, max_depth=10, random_state=42)\n",
    "model.fit(X_train_sample, y_train_sample)\n",
    "y_pred = model.predict(X_test)"
   ]
  },
  {
   "cell_type": "code",
   "execution_count": 10,
   "id": "d93af7ef",
   "metadata": {},
   "outputs": [
    {
     "name": "stdout",
     "output_type": "stream",
     "text": [
      "              precision    recall  f1-score   support\n",
      "\n",
      "           0       0.99      1.00      1.00  11576888\n",
      "           1       0.26      0.00      0.00     96832\n",
      "\n",
      "    accuracy                           0.99  11673720\n",
      "   macro avg       0.62      0.50      0.50  11673720\n",
      "weighted avg       0.99      0.99      0.99  11673720\n",
      "\n"
     ]
    }
   ],
   "source": [
    "print(classification_report(y_test, y_pred))"
   ]
  }
 ],
 "metadata": {
  "kernelspec": {
   "display_name": "Python 3",
   "language": "python",
   "name": "python3"
  },
  "language_info": {
   "codemirror_mode": {
    "name": "ipython",
    "version": 3
   },
   "file_extension": ".py",
   "mimetype": "text/x-python",
   "name": "python",
   "nbconvert_exporter": "python",
   "pygments_lexer": "ipython3",
   "version": "3.13.2"
  }
 },
 "nbformat": 4,
 "nbformat_minor": 5
}
